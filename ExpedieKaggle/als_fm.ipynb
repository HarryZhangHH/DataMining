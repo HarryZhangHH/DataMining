{
 "cells": [
  {
   "cell_type": "code",
   "execution_count": 1,
   "metadata": {},
   "outputs": [],
   "source": [
    "import pandas as pd\n",
    "import numpy as np\n",
    "import matplotlib.pyplot as plt\n",
    "import seaborn as sns\n",
    "from sklearn.metrics import mean_absolute_error\n",
    "from sklearn.metrics import mean_squared_error\n",
    "from sklearn.preprocessing import StandardScaler"
   ]
  },
  {
   "cell_type": "code",
   "execution_count": null,
   "metadata": {},
   "outputs": [],
   "source": []
  },
  {
   "cell_type": "code",
   "execution_count": null,
   "metadata": {},
   "outputs": [],
   "source": []
  },
  {
   "cell_type": "code",
   "execution_count": 2,
   "metadata": {},
   "outputs": [],
   "source": [
    "pd.set_option('display.max_rows', 500)\n",
    "pd.set_option('display.float_format', '{:.3f}'.format)\n",
    "\n",
    "sns.set_style('whitegrid')\n",
    "plt.rcParams['axes.titlesize'] = 14\n",
    "plt.rcParams['axes.labelsize'] = 12\n",
    "plt.rcParams['xtick.labelsize'] = 12\n",
    "plt.rcParams['ytick.labelsize'] = 12\n",
    "# plt.rcParams"
   ]
  },
  {
   "cell_type": "code",
   "execution_count": 3,
   "metadata": {},
   "outputs": [
    {
     "data": {
      "text/html": [
       "<div>\n",
       "<style scoped>\n",
       "    .dataframe tbody tr th:only-of-type {\n",
       "        vertical-align: middle;\n",
       "    }\n",
       "\n",
       "    .dataframe tbody tr th {\n",
       "        vertical-align: top;\n",
       "    }\n",
       "\n",
       "    .dataframe thead th {\n",
       "        text-align: right;\n",
       "    }\n",
       "</style>\n",
       "<table border=\"1\" class=\"dataframe\">\n",
       "  <thead>\n",
       "    <tr style=\"text-align: right;\">\n",
       "      <th></th>\n",
       "      <th>Unnamed: 0</th>\n",
       "      <th>Unnamed: 0.1</th>\n",
       "      <th>srch_id</th>\n",
       "      <th>date_time</th>\n",
       "      <th>site_id</th>\n",
       "      <th>visitor_location_country_id</th>\n",
       "      <th>visitor_hist_starrating</th>\n",
       "      <th>visitor_hist_adr_usd</th>\n",
       "      <th>prop_country_id</th>\n",
       "      <th>prop_id</th>\n",
       "      <th>...</th>\n",
       "      <th>comp2_inv</th>\n",
       "      <th>comp3_rate</th>\n",
       "      <th>comp3_inv</th>\n",
       "      <th>comp5_rate</th>\n",
       "      <th>comp5_inv</th>\n",
       "      <th>comp8_rate</th>\n",
       "      <th>comp8_inv</th>\n",
       "      <th>click_bool</th>\n",
       "      <th>booking_bool</th>\n",
       "      <th>srch_hist_bool</th>\n",
       "    </tr>\n",
       "  </thead>\n",
       "  <tbody>\n",
       "    <tr>\n",
       "      <th>0</th>\n",
       "      <td>0</td>\n",
       "      <td>0</td>\n",
       "      <td>1</td>\n",
       "      <td>2013-04-04 08:32:15</td>\n",
       "      <td>12</td>\n",
       "      <td>187</td>\n",
       "      <td>0.000</td>\n",
       "      <td>0.000</td>\n",
       "      <td>219</td>\n",
       "      <td>893</td>\n",
       "      <td>...</td>\n",
       "      <td>0.000</td>\n",
       "      <td>0.000</td>\n",
       "      <td>0.000</td>\n",
       "      <td>0.000</td>\n",
       "      <td>0.000</td>\n",
       "      <td>0.000</td>\n",
       "      <td>0.000</td>\n",
       "      <td>0</td>\n",
       "      <td>0</td>\n",
       "      <td>0</td>\n",
       "    </tr>\n",
       "    <tr>\n",
       "      <th>1</th>\n",
       "      <td>1</td>\n",
       "      <td>1</td>\n",
       "      <td>1</td>\n",
       "      <td>2013-04-04 08:32:15</td>\n",
       "      <td>12</td>\n",
       "      <td>187</td>\n",
       "      <td>0.000</td>\n",
       "      <td>0.000</td>\n",
       "      <td>219</td>\n",
       "      <td>10404</td>\n",
       "      <td>...</td>\n",
       "      <td>0.000</td>\n",
       "      <td>0.000</td>\n",
       "      <td>0.000</td>\n",
       "      <td>0.000</td>\n",
       "      <td>1.000</td>\n",
       "      <td>0.000</td>\n",
       "      <td>0.000</td>\n",
       "      <td>0</td>\n",
       "      <td>0</td>\n",
       "      <td>0</td>\n",
       "    </tr>\n",
       "    <tr>\n",
       "      <th>2</th>\n",
       "      <td>2</td>\n",
       "      <td>2</td>\n",
       "      <td>1</td>\n",
       "      <td>2013-04-04 08:32:15</td>\n",
       "      <td>12</td>\n",
       "      <td>187</td>\n",
       "      <td>0.000</td>\n",
       "      <td>0.000</td>\n",
       "      <td>219</td>\n",
       "      <td>21315</td>\n",
       "      <td>...</td>\n",
       "      <td>0.000</td>\n",
       "      <td>0.000</td>\n",
       "      <td>0.000</td>\n",
       "      <td>0.000</td>\n",
       "      <td>0.000</td>\n",
       "      <td>0.000</td>\n",
       "      <td>0.000</td>\n",
       "      <td>0</td>\n",
       "      <td>0</td>\n",
       "      <td>0</td>\n",
       "    </tr>\n",
       "    <tr>\n",
       "      <th>3</th>\n",
       "      <td>3</td>\n",
       "      <td>3</td>\n",
       "      <td>1</td>\n",
       "      <td>2013-04-04 08:32:15</td>\n",
       "      <td>12</td>\n",
       "      <td>187</td>\n",
       "      <td>0.000</td>\n",
       "      <td>0.000</td>\n",
       "      <td>219</td>\n",
       "      <td>27348</td>\n",
       "      <td>...</td>\n",
       "      <td>0.000</td>\n",
       "      <td>-1.000</td>\n",
       "      <td>0.000</td>\n",
       "      <td>0.000</td>\n",
       "      <td>1.000</td>\n",
       "      <td>-1.000</td>\n",
       "      <td>0.000</td>\n",
       "      <td>0</td>\n",
       "      <td>0</td>\n",
       "      <td>0</td>\n",
       "    </tr>\n",
       "    <tr>\n",
       "      <th>4</th>\n",
       "      <td>4</td>\n",
       "      <td>4</td>\n",
       "      <td>1</td>\n",
       "      <td>2013-04-04 08:32:15</td>\n",
       "      <td>12</td>\n",
       "      <td>187</td>\n",
       "      <td>0.000</td>\n",
       "      <td>0.000</td>\n",
       "      <td>219</td>\n",
       "      <td>29604</td>\n",
       "      <td>...</td>\n",
       "      <td>0.000</td>\n",
       "      <td>0.000</td>\n",
       "      <td>0.000</td>\n",
       "      <td>0.000</td>\n",
       "      <td>0.000</td>\n",
       "      <td>0.000</td>\n",
       "      <td>0.000</td>\n",
       "      <td>0</td>\n",
       "      <td>0</td>\n",
       "      <td>0</td>\n",
       "    </tr>\n",
       "  </tbody>\n",
       "</table>\n",
       "<p>5 rows × 39 columns</p>\n",
       "</div>"
      ],
      "text/plain": [
       "   Unnamed: 0  Unnamed: 0.1  srch_id            date_time  site_id  \\\n",
       "0           0             0        1  2013-04-04 08:32:15       12   \n",
       "1           1             1        1  2013-04-04 08:32:15       12   \n",
       "2           2             2        1  2013-04-04 08:32:15       12   \n",
       "3           3             3        1  2013-04-04 08:32:15       12   \n",
       "4           4             4        1  2013-04-04 08:32:15       12   \n",
       "\n",
       "   visitor_location_country_id  visitor_hist_starrating  visitor_hist_adr_usd  \\\n",
       "0                          187                    0.000                 0.000   \n",
       "1                          187                    0.000                 0.000   \n",
       "2                          187                    0.000                 0.000   \n",
       "3                          187                    0.000                 0.000   \n",
       "4                          187                    0.000                 0.000   \n",
       "\n",
       "   prop_country_id  prop_id  ...  comp2_inv  comp3_rate  comp3_inv  \\\n",
       "0              219      893  ...      0.000       0.000      0.000   \n",
       "1              219    10404  ...      0.000       0.000      0.000   \n",
       "2              219    21315  ...      0.000       0.000      0.000   \n",
       "3              219    27348  ...      0.000      -1.000      0.000   \n",
       "4              219    29604  ...      0.000       0.000      0.000   \n",
       "\n",
       "   comp5_rate  comp5_inv  comp8_rate  comp8_inv  click_bool  booking_bool  \\\n",
       "0       0.000      0.000       0.000      0.000           0             0   \n",
       "1       0.000      1.000       0.000      0.000           0             0   \n",
       "2       0.000      0.000       0.000      0.000           0             0   \n",
       "3       0.000      1.000      -1.000      0.000           0             0   \n",
       "4       0.000      0.000       0.000      0.000           0             0   \n",
       "\n",
       "   srch_hist_bool  \n",
       "0               0  \n",
       "1               0  \n",
       "2               0  \n",
       "3               0  \n",
       "4               0  \n",
       "\n",
       "[5 rows x 39 columns]"
      ]
     },
     "execution_count": 3,
     "metadata": {},
     "output_type": "execute_result"
    }
   ],
   "source": [
    "interactions = pd.read_csv('data/train_cleaned_final.csv')\n",
    "interactions.head()"
   ]
  },
  {
   "cell_type": "markdown",
   "metadata": {},
   "source": [
    "Some EDA"
   ]
  },
  {
   "cell_type": "code",
   "execution_count": 4,
   "metadata": {},
   "outputs": [],
   "source": [
    "# Cardinality\n",
    "n_users = interactions.srch_id.nunique()\n",
    "n_items = interactions.prop_id.nunique()\n",
    "n_interactions = len(interactions)"
   ]
  },
  {
   "cell_type": "code",
   "execution_count": 5,
   "metadata": {},
   "outputs": [
    {
     "name": "stdout",
     "output_type": "stream",
     "text": [
      "count   199776.000\n",
      "mean        24.816\n",
      "std          9.115\n",
      "min          1.000\n",
      "5%           7.000\n",
      "10%          9.000\n",
      "25%         18.000\n",
      "50%         29.000\n",
      "75%         32.000\n",
      "90%         33.000\n",
      "95%         34.000\n",
      "max         38.000\n",
      "Name: prop_id, dtype: float64\n",
      "count   129111.000\n",
      "mean        38.398\n",
      "std         81.874\n",
      "min          1.000\n",
      "5%           1.000\n",
      "10%          2.000\n",
      "25%          4.000\n",
      "50%         12.000\n",
      "75%         40.000\n",
      "90%         97.000\n",
      "95%        156.000\n",
      "max       2357.000\n",
      "Name: srch_id, dtype: float64\n"
     ]
    }
   ],
   "source": [
    "# Key User/Item Distributions\n",
    "# number of items/orders by user\n",
    "cnt_item_user = interactions.groupby('srch_id')['prop_id'].nunique()\n",
    "\n",
    "# number of users/orders by item\n",
    "cnt_user_item = interactions.groupby('prop_id')['srch_id'].nunique()\n",
    "\n",
    "print(cnt_item_user.describe(percentiles=[0.05, 0.10, 0.25, 0.50, 0.75, 0.90, 0.95]))\n",
    "print(cnt_user_item.describe(percentiles=[0.05, 0.10, 0.25, 0.50, 0.75, 0.90, 0.95]))"
   ]
  },
  {
   "cell_type": "code",
   "execution_count": 6,
   "metadata": {},
   "outputs": [
    {
     "name": "stderr",
     "output_type": "stream",
     "text": [
      "s:\\Anaconda\\lib\\site-packages\\seaborn\\distributions.py:2619: FutureWarning: `distplot` is a deprecated function and will be removed in a future version. Please adapt your code to use either `displot` (a figure-level function with similar flexibility) or `histplot` (an axes-level function for histograms).\n",
      "  warnings.warn(msg, FutureWarning)\n"
     ]
    },
    {
     "data": {
      "text/plain": [
       "[Text(0.5, 1.0, 'Number of Distinct Users/Item'),\n",
       " Text(0.5, 0, 'Number of Users'),\n",
       " Text(0, 0.5, 'Number of Items')]"
      ]
     },
     "execution_count": 6,
     "metadata": {},
     "output_type": "execute_result"
    },
    {
     "data": {
      "image/png": "[encoded data removed]",
      "text/plain": [
       "<Figure size 1152x576 with 2 Axes>"
      ]
     },
     "metadata": {},
     "output_type": "display_data"
    }
   ],
   "source": [
    "fig, axes = plt.subplots(1, 2, figsize=(16, 8))\n",
    "axes = axes.flatten()\n",
    "\n",
    "range_0 = [1, cnt_item_user.quantile(0.99)]\n",
    "range_1 = [1, cnt_user_item.quantile(0.90)]\n",
    "\n",
    "sns_dist_params = dict(bins=20, hist=True, kde=False, rug=False)\n",
    "sns.distplot(cnt_item_user,  **sns_dist_params, hist_kws={'range': range_0, 'alpha': 0.75}, ax=axes[0])\n",
    "sns.distplot(cnt_user_item,  **sns_dist_params, hist_kws={'range': range_1, 'alpha': 0.75}, ax=axes[1])\n",
    "\n",
    "axes[0].set(title=\"Number of Distinct Items/User\", xlabel='Number of Items', ylabel='Number of Users')\n",
    "axes[1].set(title=\"Number of Distinct Users/Item\", xlabel='Number of Users', ylabel='Number of Items')"
   ]
  },
  {
   "cell_type": "code",
   "execution_count": 7,
   "metadata": {},
   "outputs": [
    {
     "data": {
      "text/plain": [
       "srch_id  prop_id\n",
       "1        893        1\n",
       "         10404      1\n",
       "         21315      1\n",
       "         27348      1\n",
       "         29604      1\n",
       "dtype: int64"
      ]
     },
     "execution_count": 7,
     "metadata": {},
     "output_type": "execute_result"
    }
   ],
   "source": [
    "user_item_orders = interactions.groupby(['srch_id', 'prop_id']).size()\n",
    "user_item_orders.head()"
   ]
  },
  {
   "cell_type": "code",
   "execution_count": 8,
   "metadata": {},
   "outputs": [
    {
     "data": {
      "text/html": [
       "<div>\n",
       "<style scoped>\n",
       "    .dataframe tbody tr th:only-of-type {\n",
       "        vertical-align: middle;\n",
       "    }\n",
       "\n",
       "    .dataframe tbody tr th {\n",
       "        vertical-align: top;\n",
       "    }\n",
       "\n",
       "    .dataframe thead th {\n",
       "        text-align: right;\n",
       "    }\n",
       "</style>\n",
       "<table border=\"1\" class=\"dataframe\">\n",
       "  <thead>\n",
       "    <tr style=\"text-align: right;\">\n",
       "      <th></th>\n",
       "      <th>prop_id</th>\n",
       "      <th>cnt_users</th>\n",
       "      <th>pct_users</th>\n",
       "    </tr>\n",
       "  </thead>\n",
       "  <tbody>\n",
       "    <tr>\n",
       "      <th>count</th>\n",
       "      <td>129111.000</td>\n",
       "      <td>129111.000</td>\n",
       "      <td>129111.000</td>\n",
       "    </tr>\n",
       "    <tr>\n",
       "      <th>mean</th>\n",
       "      <td>70372.240</td>\n",
       "      <td>38.398</td>\n",
       "      <td>0.000</td>\n",
       "    </tr>\n",
       "    <tr>\n",
       "      <th>std</th>\n",
       "      <td>40669.932</td>\n",
       "      <td>81.874</td>\n",
       "      <td>0.000</td>\n",
       "    </tr>\n",
       "    <tr>\n",
       "      <th>min</th>\n",
       "      <td>1.000</td>\n",
       "      <td>1.000</td>\n",
       "      <td>0.000</td>\n",
       "    </tr>\n",
       "    <tr>\n",
       "      <th>25%</th>\n",
       "      <td>35141.500</td>\n",
       "      <td>4.000</td>\n",
       "      <td>0.000</td>\n",
       "    </tr>\n",
       "    <tr>\n",
       "      <th>50%</th>\n",
       "      <td>70335.000</td>\n",
       "      <td>12.000</td>\n",
       "      <td>0.000</td>\n",
       "    </tr>\n",
       "    <tr>\n",
       "      <th>75%</th>\n",
       "      <td>105594.500</td>\n",
       "      <td>40.000</td>\n",
       "      <td>0.000</td>\n",
       "    </tr>\n",
       "    <tr>\n",
       "      <th>max</th>\n",
       "      <td>140821.000</td>\n",
       "      <td>2357.000</td>\n",
       "      <td>0.012</td>\n",
       "    </tr>\n",
       "  </tbody>\n",
       "</table>\n",
       "</div>"
      ],
      "text/plain": [
       "         prop_id  cnt_users  pct_users\n",
       "count 129111.000 129111.000 129111.000\n",
       "mean   70372.240     38.398      0.000\n",
       "std    40669.932     81.874      0.000\n",
       "min        1.000      1.000      0.000\n",
       "25%    35141.500      4.000      0.000\n",
       "50%    70335.000     12.000      0.000\n",
       "75%   105594.500     40.000      0.000\n",
       "max   140821.000   2357.000      0.012"
      ]
     },
     "execution_count": 8,
     "metadata": {},
     "output_type": "execute_result"
    }
   ],
   "source": [
    "most_popular_items = cnt_user_item.to_frame('cnt_users').reset_index().sort_values('cnt_users', ascending=False).reset_index(drop=True)\n",
    "most_popular_items['pct_users'] = most_popular_items['cnt_users'] / n_users\n",
    "most_popular_items.describe()"
   ]
  },
  {
   "cell_type": "code",
   "execution_count": 9,
   "metadata": {},
   "outputs": [
    {
     "name": "stdout",
     "output_type": "stream",
     "text": [
      "users: 199776\n",
      "items: 129111\n",
      "interactions: (4957546, 39)\n",
      "unique user/items pairs: 4957546\n"
     ]
    }
   ],
   "source": [
    "print(\"users:\", n_users)\n",
    "print(\"items:\", n_items)\n",
    "print(\"interactions:\", interactions.shape)\n",
    "print(\"unique user/items pairs:\", interactions[['srch_id', 'prop_id']].drop_duplicates().shape[0])"
   ]
  },
  {
   "cell_type": "code",
   "execution_count": 10,
   "metadata": {},
   "outputs": [
    {
     "name": "stdout",
     "output_type": "stream",
     "text": [
      "---Evaluate User/Item Interaction Sparsity---\n",
      "full interaction data sparsity: 99.98\n"
     ]
    }
   ],
   "source": [
    "# Evaluate User/Item Interaction Sparsity\n",
    "print('---Evaluate User/Item Interaction Sparsity---')\n",
    "sparsity = 1 - (interactions[['srch_id', 'prop_id']].drop_duplicates().shape[0] / (n_users * n_items))\n",
    "print(\"full interaction data sparsity: {}\".format(round(100 * sparsity, 2)))"
   ]
  },
  {
   "cell_type": "code",
   "execution_count": 11,
   "metadata": {},
   "outputs": [
    {
     "name": "stdout",
     "output_type": "stream",
     "text": [
      "click users: 199759\n",
      "clicked items: 57859\n",
      "click interactions: (221835, 39)\n"
     ]
    }
   ],
   "source": [
    "mask = interactions.click_bool != 0\n",
    "click_interactions = interactions[mask]\n",
    "print(\"click users:\", len(click_interactions.srch_id.unique()))\n",
    "print(\"clicked items:\", len(click_interactions.prop_id.unique()))\n",
    "print(\"click interactions:\", click_interactions.shape)"
   ]
  },
  {
   "cell_type": "code",
   "execution_count": 12,
   "metadata": {},
   "outputs": [
    {
     "name": "stdout",
     "output_type": "stream",
     "text": [
      "book users: 138361\n",
      "booked items: 43422\n",
      "book interactions: (138361, 39)\n"
     ]
    }
   ],
   "source": [
    "mask = interactions.booking_bool != 0\n",
    "book_interactions = interactions[mask]\n",
    "print(\"book users:\", len(book_interactions.srch_id.unique()))\n",
    "print(\"booked items:\", len(book_interactions.prop_id.unique()))\n",
    "print(\"book interactions:\", book_interactions.shape)"
   ]
  },
  {
   "cell_type": "markdown",
   "metadata": {},
   "source": [
    "Subsample the Data for Initial Testing"
   ]
  },
  {
   "cell_type": "code",
   "execution_count": 13,
   "metadata": {},
   "outputs": [
    {
     "name": "stdout",
     "output_type": "stream",
     "text": [
      "shape of sample interactions (221835, 39)\n",
      "len of sample items 57859\n",
      "\n",
      "---Re-Evaluate Cardinality/Sparsity on the Sample---\n",
      "sample users: 199776\n",
      "sample items: 57859\n",
      "sample interactions: (221835, 39)\n",
      "sample interaction data sparsity: 100.0\n"
     ]
    }
   ],
   "source": [
    "# Take a Random Subsample of Users\n",
    "all_users = interactions.srch_id.unique()\n",
    "all_items = interactions.prop_id.unique()\n",
    "\n",
    "# np.random.seed(1492)\n",
    "# sample_users = np.random.choice(all_users, size=10000, replace=False)\n",
    "sample_users = all_users\n",
    "\n",
    "# Get All Interactions for Those Users\n",
    "# sample_interactions = interactions[interactions.srch_id.isin(sample_users)].copy()\n",
    "sample_interactions = click_interactions\n",
    "print(f'shape of sample interactions {sample_interactions.shape}')\n",
    "\n",
    "sample_items = sample_interactions.prop_id.unique()\n",
    "print(f'len of sample items {len(sample_items)}')\n",
    "print()\n",
    "print('---Re-Evaluate Cardinality/Sparsity on the Sample---')\n",
    "\n",
    "n_s_users = len(sample_users)\n",
    "n_s_items = len(sample_items)\n",
    "\n",
    "print(\"sample users:\", n_s_users)\n",
    "print(\"sample items:\", n_s_items)\n",
    "print(\"sample interactions:\", sample_interactions.shape)\n",
    "\n",
    "sample_sparsity = 1 - (sample_interactions[['srch_id', 'prop_id']].drop_duplicates().shape[0] / (n_s_users * n_s_items))\n",
    "print(\"sample interaction data sparsity: {}\".format(round(100 * sample_sparsity, 2)))"
   ]
  },
  {
   "cell_type": "markdown",
   "metadata": {},
   "source": [
    "Split the Data into Training/Validation Sets"
   ]
  },
  {
   "cell_type": "code",
   "execution_count": 14,
   "metadata": {},
   "outputs": [
    {
     "data": {
      "text/html": [
       "<div>\n",
       "<style scoped>\n",
       "    .dataframe tbody tr th:only-of-type {\n",
       "        vertical-align: middle;\n",
       "    }\n",
       "\n",
       "    .dataframe tbody tr th {\n",
       "        vertical-align: top;\n",
       "    }\n",
       "\n",
       "    .dataframe thead th {\n",
       "        text-align: right;\n",
       "    }\n",
       "</style>\n",
       "<table border=\"1\" class=\"dataframe\">\n",
       "  <thead>\n",
       "    <tr style=\"text-align: right;\">\n",
       "      <th></th>\n",
       "      <th>Unnamed: 0.1</th>\n",
       "      <th>srch_id</th>\n",
       "      <th>date_time</th>\n",
       "      <th>site_id</th>\n",
       "      <th>visitor_location_country_id</th>\n",
       "      <th>visitor_hist_starrating</th>\n",
       "      <th>visitor_hist_adr_usd</th>\n",
       "      <th>prop_country_id</th>\n",
       "      <th>prop_id</th>\n",
       "      <th>prop_starrating</th>\n",
       "      <th>...</th>\n",
       "      <th>comp3_rate</th>\n",
       "      <th>comp3_inv</th>\n",
       "      <th>comp5_rate</th>\n",
       "      <th>comp5_inv</th>\n",
       "      <th>comp8_rate</th>\n",
       "      <th>comp8_inv</th>\n",
       "      <th>click_bool</th>\n",
       "      <th>booking_bool</th>\n",
       "      <th>srch_hist_bool</th>\n",
       "      <th>random</th>\n",
       "    </tr>\n",
       "  </thead>\n",
       "  <tbody>\n",
       "    <tr>\n",
       "      <th>3988895</th>\n",
       "      <td>3989566</td>\n",
       "      <td>267735</td>\n",
       "      <td>2013-04-10 21:36:27</td>\n",
       "      <td>12</td>\n",
       "      <td>99</td>\n",
       "      <td>0.000</td>\n",
       "      <td>0.000</td>\n",
       "      <td>99</td>\n",
       "      <td>92400</td>\n",
       "      <td>3</td>\n",
       "      <td>...</td>\n",
       "      <td>0.000</td>\n",
       "      <td>0.000</td>\n",
       "      <td>-1.000</td>\n",
       "      <td>0.000</td>\n",
       "      <td>0.000</td>\n",
       "      <td>0.000</td>\n",
       "      <td>1</td>\n",
       "      <td>0</td>\n",
       "      <td>0</td>\n",
       "      <td>0.128</td>\n",
       "    </tr>\n",
       "    <tr>\n",
       "      <th>2511635</th>\n",
       "      <td>2512024</td>\n",
       "      <td>168660</td>\n",
       "      <td>2012-11-26 18:26:11</td>\n",
       "      <td>5</td>\n",
       "      <td>219</td>\n",
       "      <td>0.000</td>\n",
       "      <td>0.000</td>\n",
       "      <td>219</td>\n",
       "      <td>116537</td>\n",
       "      <td>3</td>\n",
       "      <td>...</td>\n",
       "      <td>0.000</td>\n",
       "      <td>0.000</td>\n",
       "      <td>0.000</td>\n",
       "      <td>0.000</td>\n",
       "      <td>0.000</td>\n",
       "      <td>0.000</td>\n",
       "      <td>1</td>\n",
       "      <td>0</td>\n",
       "      <td>0</td>\n",
       "      <td>0.280</td>\n",
       "    </tr>\n",
       "    <tr>\n",
       "      <th>437013</th>\n",
       "      <td>437096</td>\n",
       "      <td>29282</td>\n",
       "      <td>2013-01-16 16:06:53</td>\n",
       "      <td>5</td>\n",
       "      <td>219</td>\n",
       "      <td>0.000</td>\n",
       "      <td>0.000</td>\n",
       "      <td>219</td>\n",
       "      <td>81385</td>\n",
       "      <td>4</td>\n",
       "      <td>...</td>\n",
       "      <td>0.000</td>\n",
       "      <td>0.000</td>\n",
       "      <td>0.000</td>\n",
       "      <td>0.000</td>\n",
       "      <td>0.000</td>\n",
       "      <td>0.000</td>\n",
       "      <td>1</td>\n",
       "      <td>0</td>\n",
       "      <td>0</td>\n",
       "      <td>0.872</td>\n",
       "    </tr>\n",
       "    <tr>\n",
       "      <th>1852682</th>\n",
       "      <td>1852950</td>\n",
       "      <td>124416</td>\n",
       "      <td>2013-06-26 18:18:03</td>\n",
       "      <td>14</td>\n",
       "      <td>100</td>\n",
       "      <td>0.000</td>\n",
       "      <td>0.000</td>\n",
       "      <td>100</td>\n",
       "      <td>58948</td>\n",
       "      <td>3</td>\n",
       "      <td>...</td>\n",
       "      <td>0.000</td>\n",
       "      <td>0.000</td>\n",
       "      <td>0.000</td>\n",
       "      <td>0.000</td>\n",
       "      <td>0.000</td>\n",
       "      <td>0.000</td>\n",
       "      <td>1</td>\n",
       "      <td>1</td>\n",
       "      <td>0</td>\n",
       "      <td>0.419</td>\n",
       "    </tr>\n",
       "    <tr>\n",
       "      <th>4267364</th>\n",
       "      <td>4268081</td>\n",
       "      <td>286501</td>\n",
       "      <td>2013-05-22 13:22:16</td>\n",
       "      <td>5</td>\n",
       "      <td>219</td>\n",
       "      <td>0.000</td>\n",
       "      <td>0.000</td>\n",
       "      <td>219</td>\n",
       "      <td>14857</td>\n",
       "      <td>3</td>\n",
       "      <td>...</td>\n",
       "      <td>0.000</td>\n",
       "      <td>0.000</td>\n",
       "      <td>0.000</td>\n",
       "      <td>0.000</td>\n",
       "      <td>0.000</td>\n",
       "      <td>0.000</td>\n",
       "      <td>1</td>\n",
       "      <td>1</td>\n",
       "      <td>0</td>\n",
       "      <td>0.857</td>\n",
       "    </tr>\n",
       "  </tbody>\n",
       "</table>\n",
       "<p>5 rows × 39 columns</p>\n",
       "</div>"
      ],
      "text/plain": [
       "         Unnamed: 0.1  srch_id            date_time  site_id  \\\n",
       "3988895       3989566   267735  2013-04-10 21:36:27       12   \n",
       "2511635       2512024   168660  2012-11-26 18:26:11        5   \n",
       "437013         437096    29282  2013-01-16 16:06:53        5   \n",
       "1852682       1852950   124416  2013-06-26 18:18:03       14   \n",
       "4267364       4268081   286501  2013-05-22 13:22:16        5   \n",
       "\n",
       "         visitor_location_country_id  visitor_hist_starrating  \\\n",
       "3988895                           99                    0.000   \n",
       "2511635                          219                    0.000   \n",
       "437013                           219                    0.000   \n",
       "1852682                          100                    0.000   \n",
       "4267364                          219                    0.000   \n",
       "\n",
       "         visitor_hist_adr_usd  prop_country_id  prop_id  prop_starrating  ...  \\\n",
       "3988895                 0.000               99    92400                3  ...   \n",
       "2511635                 0.000              219   116537                3  ...   \n",
       "437013                  0.000              219    81385                4  ...   \n",
       "1852682                 0.000              100    58948                3  ...   \n",
       "4267364                 0.000              219    14857                3  ...   \n",
       "\n",
       "         comp3_rate  comp3_inv  comp5_rate  comp5_inv  comp8_rate  comp8_inv  \\\n",
       "3988895       0.000      0.000      -1.000      0.000       0.000      0.000   \n",
       "2511635       0.000      0.000       0.000      0.000       0.000      0.000   \n",
       "437013        0.000      0.000       0.000      0.000       0.000      0.000   \n",
       "1852682       0.000      0.000       0.000      0.000       0.000      0.000   \n",
       "4267364       0.000      0.000       0.000      0.000       0.000      0.000   \n",
       "\n",
       "         click_bool  booking_bool  srch_hist_bool  random  \n",
       "3988895           1             0               0   0.128  \n",
       "2511635           1             0               0   0.280  \n",
       "437013            1             0               0   0.872  \n",
       "1852682           1             1               0   0.419  \n",
       "4267364           1             1               0   0.857  \n",
       "\n",
       "[5 rows x 39 columns]"
      ]
     },
     "execution_count": 14,
     "metadata": {},
     "output_type": "execute_result"
    }
   ],
   "source": [
    "# Randomly Shuffle the Overall Interaction Data\n",
    "shuffle_index = np.arange(len(sample_interactions))\n",
    "np.random.shuffle(shuffle_index)\n",
    "\n",
    "sample_interactions = sample_interactions.iloc[shuffle_index].iloc[:,1:]\n",
    "sample_interactions['random'] = np.random.random(size=len(sample_interactions))\n",
    "sample_interactions.head()"
   ]
  },
  {
   "cell_type": "code",
   "execution_count": 71,
   "metadata": {},
   "outputs": [
    {
     "name": "stdout",
     "output_type": "stream",
     "text": [
      "total shape: (221835, 2)\n",
      "train shape: (221835, 2)\n",
      "valid shape: (55533, 2)\n",
      "\n",
      "train users: 199759\n",
      "valid users: 53390\n",
      "cold-start users: set()\n",
      "\n",
      "train items: 57859\n",
      "valid items: 28416\n",
      "number of cold-start items: 0\n"
     ]
    }
   ],
   "source": [
    "# Split Off 25% to Use for Validation\n",
    "test_pct = 0.25\n",
    "train_mask = sample_interactions['random'] <  (1 - test_pct)\n",
    "train_mask = sample_interactions['random'] < 1\n",
    "valid_mask = sample_interactions['random'] >= (1 - test_pct)\n",
    "          \n",
    "interactions_total = sample_interactions[['srch_id', 'prop_id']]\n",
    "interactions_total = interactions_total.iloc[shuffle_index]\n",
    "\n",
    "interactions_train = sample_interactions[train_mask].groupby(['srch_id', 'prop_id']).size().to_frame('orders').reset_index()\n",
    "interactions_valid = sample_interactions[valid_mask].groupby(['srch_id', 'prop_id']).size().to_frame('orders').reset_index()\n",
    "\n",
    "# sample_weight_train = np.log2(interactions_train['orders'] + 1)\n",
    "# sample_weight_valid = np.log2(interactions_valid['orders'] + 1)\n",
    "\n",
    "interactions_train = interactions_train[['srch_id', 'prop_id']]\n",
    "interactions_valid = interactions_valid[['srch_id', 'prop_id']]\n",
    "\n",
    "\n",
    "train_users = np.sort(interactions_train.srch_id.unique())\n",
    "valid_users = np.sort(interactions_valid.srch_id.unique())\n",
    "cold_start_users = set(valid_users) - set(train_users)\n",
    "\n",
    "train_items = np.sort(interactions_train.prop_id.unique())\n",
    "valid_items = np.sort(interactions_valid.prop_id.unique())\n",
    "cold_start_items = set(valid_items) - set(train_items)\n",
    "\n",
    "print(\"total shape: {}\".format(interactions_total.shape))\n",
    "print(\"train shape: {}\".format(interactions_train.shape))\n",
    "print(\"valid shape: {}\".format(interactions_valid.shape))\n",
    "\n",
    "# print(\"\\ntrain weights shape: {}\".format(sample_weight_train.shape))\n",
    "# print(\"valid weights shape: {}\".format(sample_weight_valid.shape))\n",
    "\n",
    "print(\"\\ntrain users: {}\".format(len(train_users)))\n",
    "print(\"valid users: {}\".format(len(valid_users)))\n",
    "print(\"cold-start users: {}\".format(cold_start_users))\n",
    "\n",
    "print(\"\\ntrain items: {}\".format(len(train_items)))\n",
    "print(\"valid items: {}\".format(len(valid_items)))\n",
    "print(\"number of cold-start items: {}\".format(len(cold_start_items)))"
   ]
  },
  {
   "cell_type": "code",
   "execution_count": 16,
   "metadata": {},
   "outputs": [
    {
     "data": {
      "text/plain": [
       "True"
      ]
     },
     "execution_count": 16,
     "metadata": {},
     "output_type": "execute_result"
    }
   ],
   "source": [
    "len(cold_start_users) == 0"
   ]
  },
  {
   "cell_type": "markdown",
   "metadata": {},
   "source": [
    "Model"
   ]
  },
  {
   "cell_type": "code",
   "execution_count": 17,
   "metadata": {},
   "outputs": [],
   "source": [
    "# Specify Number of Recommended Items\n",
    "k = 10"
   ]
  },
  {
   "cell_type": "code",
   "execution_count": 18,
   "metadata": {},
   "outputs": [
    {
     "name": "stdout",
     "output_type": "stream",
     "text": [
      "199759 57859 221835\n"
     ]
    },
    {
     "data": {
      "text/plain": [
       "(<199759x57859 sparse matrix of type '<class 'numpy.float64'>'\n",
       " \twith 221835 stored elements in Compressed Sparse Row format>,\n",
       " <57859x199759 sparse matrix of type '<class 'numpy.float64'>'\n",
       " \twith 221835 stored elements in Compressed Sparse Row format>)"
      ]
     },
     "execution_count": 18,
     "metadata": {},
     "output_type": "execute_result"
    }
   ],
   "source": [
    "from implicit.als import AlternatingLeastSquares\n",
    "from scipy.sparse import csr_matrix\n",
    "# create zero-based index position to identifier mappings\n",
    "index_to_user = pd.Series(np.sort(np.unique(interactions_train['srch_id'])))\n",
    "index_to_item = pd.Series(np.sort(np.unique(interactions_train['prop_id'])))\n",
    "\n",
    "# create reverse mappings from identifiers to zero-based index positions\n",
    "user_to_index = pd.Series(data=index_to_user.index, index=index_to_user.values)\n",
    "item_to_index = pd.Series(data=index_to_item.index, index=index_to_item.values)\n",
    "\n",
    "interactions_train_imp = interactions_train.copy()\n",
    "interactions_train_imp['srch_id'] = interactions_train['srch_id'].map(user_to_index)\n",
    "interactions_train_imp['prop_id'] = interactions_train['prop_id'].map(item_to_index)\n",
    "\n",
    "n_users_train = len(index_to_user)\n",
    "n_items_train = len(index_to_item)\n",
    "n_inter_train = len(interactions_train_imp)\n",
    "print(n_users_train, n_items_train, n_inter_train)\n",
    "\n",
    "data = np.ones(n_inter_train)\n",
    "rows = interactions_train_imp['srch_id']\n",
    "cols = interactions_train_imp['prop_id']\n",
    "\n",
    "user_items_imp = csr_matrix((data, (rows, cols)), shape=(n_users_train, n_items_train))\n",
    "item_users_imp = user_items_imp.T.tocsr()\n",
    "user_items_imp, item_users_imp"
   ]
  },
  {
   "cell_type": "code",
   "execution_count": 25,
   "metadata": {},
   "outputs": [
    {
     "name": "stderr",
     "output_type": "stream",
     "text": [
      "100%|██████████| 15/15 [00:15<00:00,  1.01s/it]"
     ]
    },
    {
     "name": "stdout",
     "output_type": "stream",
     "text": [
      "Wall time: 16.2 s\n"
     ]
    },
    {
     "name": "stderr",
     "output_type": "stream",
     "text": [
      "\n"
     ]
    }
   ],
   "source": [
    "%%time\n",
    "# Fit the Model\n",
    "imp_model = AlternatingLeastSquares(factors=64, regularization=0.05, use_native=True, use_cg=False)\n",
    "\n",
    "imp_model.fit(user_items_imp, show_progress=True)"
   ]
  },
  {
   "cell_type": "code",
   "execution_count": 36,
   "metadata": {},
   "outputs": [
    {
     "data": {
      "text/plain": [
       "array([     0,      1,      2, ..., 199756, 199757, 199758], dtype=int64)"
      ]
     },
     "execution_count": 36,
     "metadata": {},
     "output_type": "execute_result"
    }
   ],
   "source": [
    "index_to_user.index.to_numpy()"
   ]
  },
  {
   "cell_type": "code",
   "execution_count": 38,
   "metadata": {},
   "outputs": [],
   "source": [
    "result = imp_model.recommend(user_items=user_items_imp, userid=index_to_user.index.to_numpy(), N=100)"
   ]
  },
  {
   "cell_type": "code",
   "execution_count": 75,
   "metadata": {},
   "outputs": [
    {
     "data": {
      "text/plain": [
       "array([[2.9515763e-04, 5.2584575e-05, 4.9180959e-05, ..., 5.6749673e-07,\n",
       "        5.5009508e-07, 5.4913369e-07],\n",
       "       [1.8232161e-12, 1.2422802e-12, 9.3381639e-13, ..., 4.0415035e-14,\n",
       "        3.9706275e-14, 3.9476980e-14],\n",
       "       [2.3631210e-27, 2.2190757e-27, 1.5955007e-27, ..., 6.6083832e-29,\n",
       "        6.6060480e-29, 6.3652731e-29],\n",
       "       ...,\n",
       "       [2.1736271e-21, 2.0759107e-21, 1.9028739e-21, ..., 5.6976596e-23,\n",
       "        5.5937609e-23, 5.5517134e-23],\n",
       "       [4.2150045e-06, 3.9207548e-06, 3.5541284e-06, ..., 9.0759052e-08,\n",
       "        8.7165986e-08, 8.5667018e-08],\n",
       "       [4.7105682e-19, 4.2346377e-19, 3.6602561e-19, ..., 7.6714798e-21,\n",
       "        7.6041752e-21, 7.5017309e-21]], dtype=float32)"
      ]
     },
     "execution_count": 75,
     "metadata": {},
     "output_type": "execute_result"
    }
   ],
   "source": [
    "list(result)[1]"
   ]
  },
  {
   "cell_type": "code",
   "execution_count": 88,
   "metadata": {},
   "outputs": [],
   "source": [
    "df_fmresult = pd.DataFrame(list(result)[0], index=index_to_user.values).apply(lambda c: c.map(index_to_item)).stack().reset_index()\n",
    "df_fmresult.columns = ['srch_id', 'fm_rank', 'prop_id']\n",
    "df_fmresult['fm_score'] = list(result)[1].reshape(-1)\n",
    "sum_fm = df_fmresult.groupby('srch_id')['fm_score'].agg('sum').to_frame('score_mean')\n",
    "df_fmresult['fm_rank'] = 100 - df_fmresult['fm_rank']\n",
    "df_fmresult = df_fmresult.join(sum_fm, on='srch_id')\n",
    "df_fmresult.fm_score /= ((df_fmresult.score_mean + 0.001)/100)\n",
    "df_fmresult.to_csv('data/fm_rank.csv')"
   ]
  },
  {
   "cell_type": "code",
   "execution_count": 89,
   "metadata": {},
   "outputs": [
    {
     "data": {
      "text/html": [
       "<div>\n",
       "<style scoped>\n",
       "    .dataframe tbody tr th:only-of-type {\n",
       "        vertical-align: middle;\n",
       "    }\n",
       "\n",
       "    .dataframe tbody tr th {\n",
       "        vertical-align: top;\n",
       "    }\n",
       "\n",
       "    .dataframe thead th {\n",
       "        text-align: right;\n",
       "    }\n",
       "</style>\n",
       "<table border=\"1\" class=\"dataframe\">\n",
       "  <thead>\n",
       "    <tr style=\"text-align: right;\">\n",
       "      <th></th>\n",
       "      <th>srch_id</th>\n",
       "      <th>fm_rank</th>\n",
       "      <th>prop_id</th>\n",
       "      <th>fm_score</th>\n",
       "      <th>score_mean</th>\n",
       "    </tr>\n",
       "  </thead>\n",
       "  <tbody>\n",
       "    <tr>\n",
       "      <th>0</th>\n",
       "      <td>1</td>\n",
       "      <td>100</td>\n",
       "      <td>53341</td>\n",
       "      <td>15.618</td>\n",
       "      <td>0.001</td>\n",
       "    </tr>\n",
       "    <tr>\n",
       "      <th>1</th>\n",
       "      <td>1</td>\n",
       "      <td>99</td>\n",
       "      <td>88096</td>\n",
       "      <td>2.782</td>\n",
       "      <td>0.001</td>\n",
       "    </tr>\n",
       "    <tr>\n",
       "      <th>2</th>\n",
       "      <td>1</td>\n",
       "      <td>98</td>\n",
       "      <td>88218</td>\n",
       "      <td>2.602</td>\n",
       "      <td>0.001</td>\n",
       "    </tr>\n",
       "    <tr>\n",
       "      <th>3</th>\n",
       "      <td>1</td>\n",
       "      <td>97</td>\n",
       "      <td>65606</td>\n",
       "      <td>2.069</td>\n",
       "      <td>0.001</td>\n",
       "    </tr>\n",
       "    <tr>\n",
       "      <th>4</th>\n",
       "      <td>1</td>\n",
       "      <td>96</td>\n",
       "      <td>30184</td>\n",
       "      <td>2.050</td>\n",
       "      <td>0.001</td>\n",
       "    </tr>\n",
       "    <tr>\n",
       "      <th>...</th>\n",
       "      <td>...</td>\n",
       "      <td>...</td>\n",
       "      <td>...</td>\n",
       "      <td>...</td>\n",
       "      <td>...</td>\n",
       "    </tr>\n",
       "    <tr>\n",
       "      <th>19975895</th>\n",
       "      <td>332785</td>\n",
       "      <td>5</td>\n",
       "      <td>120144</td>\n",
       "      <td>0.000</td>\n",
       "      <td>0.000</td>\n",
       "    </tr>\n",
       "    <tr>\n",
       "      <th>19975896</th>\n",
       "      <td>332785</td>\n",
       "      <td>4</td>\n",
       "      <td>34852</td>\n",
       "      <td>0.000</td>\n",
       "      <td>0.000</td>\n",
       "    </tr>\n",
       "    <tr>\n",
       "      <th>19975897</th>\n",
       "      <td>332785</td>\n",
       "      <td>3</td>\n",
       "      <td>108251</td>\n",
       "      <td>0.000</td>\n",
       "      <td>0.000</td>\n",
       "    </tr>\n",
       "    <tr>\n",
       "      <th>19975898</th>\n",
       "      <td>332785</td>\n",
       "      <td>2</td>\n",
       "      <td>140582</td>\n",
       "      <td>0.000</td>\n",
       "      <td>0.000</td>\n",
       "    </tr>\n",
       "    <tr>\n",
       "      <th>19975899</th>\n",
       "      <td>332785</td>\n",
       "      <td>1</td>\n",
       "      <td>30878</td>\n",
       "      <td>0.000</td>\n",
       "      <td>0.000</td>\n",
       "    </tr>\n",
       "  </tbody>\n",
       "</table>\n",
       "<p>19975900 rows × 5 columns</p>\n",
       "</div>"
      ],
      "text/plain": [
       "          srch_id  fm_rank  prop_id  fm_score  score_mean\n",
       "0               1      100    53341    15.618       0.001\n",
       "1               1       99    88096     2.782       0.001\n",
       "2               1       98    88218     2.602       0.001\n",
       "3               1       97    65606     2.069       0.001\n",
       "4               1       96    30184     2.050       0.001\n",
       "...           ...      ...      ...       ...         ...\n",
       "19975895   332785        5   120144     0.000       0.000\n",
       "19975896   332785        4    34852     0.000       0.000\n",
       "19975897   332785        3   108251     0.000       0.000\n",
       "19975898   332785        2   140582     0.000       0.000\n",
       "19975899   332785        1    30878     0.000       0.000\n",
       "\n",
       "[19975900 rows x 5 columns]"
      ]
     },
     "execution_count": 89,
     "metadata": {},
     "output_type": "execute_result"
    }
   ],
   "source": [
    "df_fmresult"
   ]
  },
  {
   "cell_type": "code",
   "execution_count": 30,
   "metadata": {},
   "outputs": [
    {
     "data": {
      "text/plain": [
       "199759"
      ]
     },
     "execution_count": 30,
     "metadata": {},
     "output_type": "execute_result"
    }
   ],
   "source": [
    "user_items_imp.shape[0]"
   ]
  },
  {
   "cell_type": "code",
   "execution_count": 26,
   "metadata": {},
   "outputs": [],
   "source": [
    "# Generate TopN Recommendations for Each User\n",
    "recs_imp = imp_model.recommend_all(user_items=user_items_imp, N=k)\n",
    "# recs_imp = pd.DataFrame(recs_imp, index=index_to_user.values).apply(lambda c: c.map(index_to_item))\n",
    "# recs_imp = recs_imp.loc[valid_users]\n",
    "# recs_imp.head()"
   ]
  },
  {
   "cell_type": "code",
   "execution_count": 27,
   "metadata": {},
   "outputs": [
    {
     "data": {
      "text/plain": [
       "array([[21967, 36217, 36275, ..., 30638, 46652, 15863],\n",
       "       [20917, 22553, 33104, ..., 14498, 37369, 54566],\n",
       "       [54566, 54240, 48945, ...,  5705, 55698, 14688],\n",
       "       ...,\n",
       "       [37369, 10162,  5705, ..., 24644, 16665,  1284],\n",
       "       [48945, 20917,  6609, ...,  7614, 10162,  7308],\n",
       "       [54240, 33104, 43393, ..., 21878, 39653, 14688]])"
      ]
     },
     "execution_count": 27,
     "metadata": {},
     "output_type": "execute_result"
    }
   ],
   "source": [
    "recs_imp"
   ]
  },
  {
   "cell_type": "code",
   "execution_count": 195,
   "metadata": {},
   "outputs": [
    {
     "name": "stdout",
     "output_type": "stream",
     "text": [
      "(53472, 10)\n",
      "True\n"
     ]
    }
   ],
   "source": [
    "print(recs_imp.shape)\n",
    "print(np.array_equal(recs_imp.index, valid_users))"
   ]
  },
  {
   "cell_type": "code",
   "execution_count": 197,
   "metadata": {},
   "outputs": [
    {
     "name": "stdout",
     "output_type": "stream",
     "text": [
      "hit_rate: 0.000\n",
      "precision: 0.000\n",
      "recall: 0.000\n"
     ]
    }
   ],
   "source": [
    "# Evaluate Implicit's Performance on Hold-Out Data\n",
    "valid_user_items = interactions_valid.groupby('srch_id')['prop_id'].apply(set).to_dict()\n",
    "imp_hrt = np.mean([int(len(set(recs_imp.loc[u]) & valid_user_items[u]) > 0) for u in valid_users])\n",
    "imp_pre = np.mean([len(set(recs_imp.loc[u]) & valid_user_items[u]) / len(recs_imp.loc[u]) for u in valid_users])\n",
    "imp_rec = np.mean([len(set(recs_imp.loc[u]) & valid_user_items[u]) / len(valid_user_items[u]) for u in valid_users])\n",
    "\n",
    "print(\"hit_rate: {:.3f}\".format(imp_hrt))\n",
    "print(\"precision: {:.3f}\".format(imp_pre))\n",
    "print(\"recall: {:.3f}\".format(imp_rec))"
   ]
  }
 ],
 "metadata": {
  "interpreter": {
   "hash": "f775358a36c1bda3b4c58ec845d9881063e3e00360351ef98798feb093e44f29"
  },
  "kernelspec": {
   "display_name": "Python 3.9.7 ('base')",
   "language": "python",
   "name": "python3"
  },
  "language_info": {
   "codemirror_mode": {
    "name": "ipython",
    "version": 3
   },
   "file_extension": ".py",
   "mimetype": "text/x-python",
   "name": "python",
   "nbconvert_exporter": "python",
   "pygments_lexer": "ipython3",
   "version": "3.9.7"
  },
  "orig_nbformat": 4
 },
 "nbformat": 4,
 "nbformat_minor": 2
}
